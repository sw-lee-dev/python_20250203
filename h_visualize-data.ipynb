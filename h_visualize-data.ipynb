{
 "cells": [
  {
   "cell_type": "markdown",
   "metadata": {},
   "source": [
    "### 데이터 시각화 패키지 matplotlib\n",
    "matplotlib 패키지는 파이썬에서 데이터를 차트 혹은 플롯으로 시각화를 보조하는 패키지\n",
    "- 선형 그래프 (line plot)\n",
    "- 점 그래프 (scatter plot)\n",
    "- 등고선 (contour plot)\n",
    "- 표면도 (surface plot)\n",
    "- 막대 그래프 (bar chart)\n",
    "- 히스토그램 (histogram)\n",
    "- 박스 그래프 (box plot)\n",
    "\n",
    "```bash\n",
    "pip install matplotlib\n",
    "```"
   ]
  },
  {
   "cell_type": "markdown",
   "metadata": {},
   "source": [
    "##### pyploy 하위패키지\n",
    "간단하게 시각화 자료를 만들 수 있도록 기본 틀이 잡혀있는 패키지\n",
    "\n",
    "```python\n",
    "import matplotlib.pyplot as plt\n",
    "```"
   ]
  },
  {
   "cell_type": "code",
   "execution_count": null,
   "metadata": {},
   "outputs": [],
   "source": []
  },
  {
   "cell_type": "markdown",
   "metadata": {},
   "source": [
    "##### 그래프의 종류\n",
    "  \n",
    "**막대 그래프** : 데이터를 카테고리별로 값을 막대로 표현 할때 사용하는 그래프 형식 (수직 막대 그래프, 수평 막대 그래프)  \n",
    "> 카테고리별 데이터를 비교하고자 할때 사용 (제품 판매량, 지역별 인구수)  \n",
    "  \n",
    "**선 그래프** : 시간의 흐름에 따른 데이터 포인터를 선으로 연결하여 사용하는 그래프 형식  \n",
    "> 하나의 요소에 대해 시간의 흐름에 따라 변경값을 나타내고자 할때 사용 (기온, 주식)  \n",
    "  \n",
    "**파이 차트** : 전체 데이터에 대한 각 요소의 비율을 원형으로 나타낼때 사용하는 그래프 형식  \n",
    "> 전체에 대한 요소의 비율을 표현하고자 할때 사용 (투표 결과)  \n",
    "  \n",
    "**산점도** : 두 변수 간의 상관관계를 표현할때 사용하는 그래프 형식  \n",
    "> 각 요소간 관계성을 파악할때 사용 (키와 몸무게 상관관계 비교)  \n",
    "  \n",
    "**히스토그램** : 범위별로 그룹화하여 각 그룹에 속하는 데이터의 수를 막대로 표현하는 그래프 형식  \n",
    "> 데이터의 분포를 비교할때 사용 (시험 점수 분포)  \n",
    "  \n",
    "**영역 그래프** : 선 그래프의 아래쪽 빈 공간을 채운 그래프  \n",
    "> 시간의 흐름에 따라 데이터를 비교할 때 사용, 변화량을 강조하고자 할때 사용  \n",
    "  \n",
    "**박스 그래프** : 데이터의 분포를 나타낼때 사용하는 그래프 형식  \n",
    "> 최대값, 최소값, 사분위수로 데이터의 이상치를 판단할때 사용  \n",
    "  "
   ]
  },
  {
   "cell_type": "markdown",
   "metadata": {},
   "source": [
    "### 선 그래프\n",
    "가장 기본적인 그래프 형식, 시간의 흐름 및 순서에 따라서 데이터의 변화량을 보여주고자 할때 사용  \n",
    "plot 패키지의 plot() 메서드로 간단하게 생성 가능"
   ]
  },
  {
   "cell_type": "code",
   "execution_count": null,
   "metadata": {},
   "outputs": [],
   "source": []
  },
  {
   "cell_type": "markdown",
   "metadata": {},
   "source": [
    "### 막대 그래프\n",
    "x축의 값이 분류가 가능한 카테고리 형태일때 bar(), barh() 메서드로 막대 그래프를 표현할 수 있음"
   ]
  },
  {
   "cell_type": "code",
   "execution_count": null,
   "metadata": {},
   "outputs": [],
   "source": []
  },
  {
   "cell_type": "markdown",
   "metadata": {},
   "source": [
    "### 스템 플롯\n",
    "기준점을 기준으로 오차범위를 표현하고자 할때 사용하는 차트  "
   ]
  },
  {
   "cell_type": "code",
   "execution_count": null,
   "metadata": {},
   "outputs": [],
   "source": []
  },
  {
   "cell_type": "markdown",
   "metadata": {},
   "source": [
    "### 파이차트\n",
    "각 분류가 전체에서 차지하는 비중을 표현하고자 할때 사용하는 차트"
   ]
  },
  {
   "cell_type": "code",
   "execution_count": null,
   "metadata": {},
   "outputs": [],
   "source": []
  },
  {
   "cell_type": "markdown",
   "metadata": {},
   "source": [
    "### 히스토그램\n",
    "특정 구간에 대한 집계 데이터를 표시할 때 사용하는 그래프"
   ]
  },
  {
   "cell_type": "code",
   "execution_count": null,
   "metadata": {},
   "outputs": [],
   "source": []
  },
  {
   "cell_type": "markdown",
   "metadata": {},
   "source": [
    "### 점 그래프\n",
    "변수간의 상관관계 표현할때 사용하는 그래프"
   ]
  },
  {
   "cell_type": "code",
   "execution_count": null,
   "metadata": {},
   "outputs": [],
   "source": []
  },
  {
   "cell_type": "markdown",
   "metadata": {},
   "source": [
    "### 컨투어 플롯\n",
    "3차원 자료에서 x,y 입력과 z출력이 존재할 때, z를 선과 색상으로 표현하는 그래프"
   ]
  },
  {
   "cell_type": "code",
   "execution_count": null,
   "metadata": {},
   "outputs": [],
   "source": []
  }
 ],
 "metadata": {
  "kernelspec": {
   "display_name": "Python 3",
   "language": "python",
   "name": "python3"
  },
  "language_info": {
   "codemirror_mode": {
    "name": "ipython",
    "version": 3
   },
   "file_extension": ".py",
   "mimetype": "text/x-python",
   "name": "python",
   "nbconvert_exporter": "python",
   "pygments_lexer": "ipython3",
   "version": "3.12.4"
  }
 },
 "nbformat": 4,
 "nbformat_minor": 2
}
